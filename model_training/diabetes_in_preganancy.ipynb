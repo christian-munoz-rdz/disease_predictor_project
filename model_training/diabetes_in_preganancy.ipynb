{
  "nbformat": 4,
  "nbformat_minor": 0,
  "metadata": {
    "colab": {
      "provenance": []
    },
    "kernelspec": {
      "name": "python3",
      "display_name": "Python 3"
    },
    "language_info": {
      "name": "python"
    }
  },
  "cells": [
    {
      "cell_type": "markdown",
      "source": [
        "\n",
        "# Predicción de diabetes melitus en mujeres que están embarazadas  \n",
        "Este código es un ejemplo de cómo se puede utilizar TensorFlow y las redes neuronale artificiales (RNA) para predecir la probabilidad del padecimiento de diabetes en mujeres embaradas en función de ciertas características de salud.\n"
      ],
      "metadata": {
        "id": "vNaoCgapYnJT"
      }
    },
    {
      "cell_type": "markdown",
      "source": [
        "1. Se importan las librerías necesarias: numpy, pandas y tensorflow. Estas 1.librerías son utilizadas para realizar cálculos numéricos, manipular y analizar datos, y construir y entrenar la red neuronal, respectivamente.  \n",
        "2. Se carga el dataset de diabetes desde un archivo CSV utilizando la función \"read_csv\" de la librería pandas. El dataset contiene información sobre diferentes características de salud y si una persona padece o no diabetes."
      ],
      "metadata": {
        "id": "r3RB6TDHYqth"
      }
    },
    {
      "cell_type": "code",
      "execution_count": null,
      "metadata": {
        "id": "OP4SPtRgV7Hy"
      },
      "outputs": [],
      "source": [
        "# Importar las librerías necesarias\n",
        "import numpy as np\n",
        "import pandas as pd\n",
        "import tensorflow as tf\n",
        "\n",
        "# Cargar el dataset de diabetes\n",
        "df = pd.read_csv(\"diabetes.csv\")"
      ]
    },
    {
      "cell_type": "markdown",
      "source": [
        "3. Se separan las variables independientes (X) de la variable dependiente (y). Las variables independientes son todas las columnas del dataset excepto la última, que corresponde a la variable dependiente (si padece o no diabetes)."
      ],
      "metadata": {
        "id": "W5Y3_Zylqzer"
      }
    },
    {
      "cell_type": "code",
      "source": [
        "# Separar las variables independientes (X) y la variable dependiente (y)\n",
        "X = df.iloc[:, :-1].values\n",
        "y = df.iloc[:, -1].values"
      ],
      "metadata": {
        "id": "ThMORdDxWD3t"
      },
      "execution_count": null,
      "outputs": []
    },
    {
      "cell_type": "markdown",
      "source": [
        " 4. Se divide el dataset en un conjunto de entrenamiento y un conjunto de prueba utilizando la función \"train_test_split\" de la librería scikit-learn. El conjunto de prueba tendrá un tamaño del 20% del dataset total, y se utiliza una semilla aleatoria para garantizar que la división sea reproducible."
      ],
      "metadata": {
        "id": "sa33FGn2rFCK"
      }
    },
    {
      "cell_type": "code",
      "source": [
        "# Dividir el dataset en conjunto de entrenamiento y de prueba\n",
        "from sklearn.model_selection import train_test_split\n",
        "\n",
        "X_train, X_test, y_train, y_test = train_test_split(X, y, test_size = 0.2, random_state = 0)"
      ],
      "metadata": {
        "id": "lHZXO4vQqnqE"
      },
      "execution_count": null,
      "outputs": []
    },
    {
      "cell_type": "markdown",
      "source": [
        "5. Se escalan las variables independientes utilizando la clase \"StandardScaler\" de la librería scikit-learn. El escalado es importante para asegurar que todas las variables tengan un rango similar y evitar que algunas variables dominen sobre otras en el proceso de entrenamiento de la red neuronal."
      ],
      "metadata": {
        "id": "CM3bmcebrlGB"
      }
    },
    {
      "cell_type": "code",
      "source": [
        "# Escalar las variables independientes\n",
        "from sklearn.preprocessing import StandardScaler\n",
        "sc = StandardScaler()\n",
        "X_train = sc.fit_transform(X_train)\n",
        "X_test = sc.transform(X_test)"
      ],
      "metadata": {
        "id": "k-GCBeGEWdXM"
      },
      "execution_count": null,
      "outputs": []
    },
    {
      "cell_type": "markdown",
      "source": [
        "6. Se crea la red neuronal utilizando la clase \"Sequential\" de la librería tensorflow. Esta clase permite construir una red neuronal de manera secuencial, añadiendo capas una tras otra.\n",
        "7. Se añade la capa de entrada y la primera capa oculta utilizando el método \"add\" de la red neuronal. La capa de entrada tiene 8 unidades (neuronas) y utiliza la función de activación \"relu\" (unidad lineal rectificada).\n",
        "8. Se añade la segunda capa oculta de la misma manera que la primera capa. Esto permite que la red neuronal aprenda patrones más complejos y no lineales en los datos.\n",
        "9. Se añade la capa de salida, que tiene una sola unidad y utiliza la función de activación \"sigmoid\". La función de activación sigmoidal es adecuada para problemas de clasificación binaria, ya que produce una salida entre 0 y 1 que se puede interpretar como la probabilidad de pertenecer a una clase."
      ],
      "metadata": {
        "id": "7zhkKCZtsBD3"
      }
    },
    {
      "cell_type": "code",
      "source": [
        "# Crear la red neuronal\n",
        "ann = tf.keras.models.Sequential()\n",
        "\n",
        "# Añadir la capa de entrada y la primera capa oculta\n",
        "ann.add(tf.keras.layers.Dense(units=8, activation='relu'))\n",
        "\n",
        "# Añadir la segunda capa oculta\n",
        "ann.add(tf.keras.layers.Dense(units=8, activation='relu'))\n",
        "\n",
        "# Añadir la capa de salida\n",
        "ann.add(tf.keras.layers.Dense(units=1, activation='sigmoid'))"
      ],
      "metadata": {
        "id": "EQtHoOPBWzTY"
      },
      "execution_count": null,
      "outputs": []
    },
    {
      "cell_type": "markdown",
      "source": [
        "10. Se compila la red neuronal utilizando el método \"compile\" de la red neuronal. Se especifica el optimizador \"adam\", que es un algoritmo de optimización popular en el entrenamiento de redes neuronales, y la función de pérdida \"binary_crossentropy\", que es adecuada para problemas de clasificación binaria. También se especifica la métrica de evaluación \"accuracy\" para monitorear el desempeño de la red neuronal durante el entrenamiento."
      ],
      "metadata": {
        "id": "fvzXUKt4s4zm"
      }
    },
    {
      "cell_type": "code",
      "source": [
        "# Compilar la red neuronal\n",
        "ann.compile(optimizer = 'adam', loss = 'binary_crossentropy', metrics = ['accuracy'])"
      ],
      "metadata": {
        "id": "FH5EeAf7W3VU"
      },
      "execution_count": null,
      "outputs": []
    },
    {
      "cell_type": "markdown",
      "source": [
        "11. Se entrena la red neuronal utilizando el método \"fit\" de la red neuronal. Se proporcionan los conjuntos de entrenamiento (X_train, y_train), el tamaño del lote (batch_size) y el número de épocas (epochs). El tamaño del lote determina cuántas muestras se utilizan para actualizar los pesos de la red neuronal en cada paso de entrenamiento, y el número de épocas determina cuántas veces se recorre todo el conjunto de entrenamiento durante el entrenamiento."
      ],
      "metadata": {
        "id": "NeQAgCvetG8D"
      }
    },
    {
      "cell_type": "code",
      "source": [
        "# Entrenar la red neuronal\n",
        "ann.fit(X_train, y_train, batch_size = 32, epochs = 100)"
      ],
      "metadata": {
        "colab": {
          "base_uri": "https://localhost:8080/"
        },
        "id": "8NCOlUUAtHmb",
        "outputId": "507b996f-d85f-4ff3-bcbe-2fe17ae10765"
      },
      "execution_count": null,
      "outputs": [
        {
          "output_type": "stream",
          "name": "stdout",
          "text": [
            "Epoch 1/100\n",
            "20/20 [==============================] - 1s 2ms/step - loss: 0.6930 - accuracy: 0.5489\n",
            "Epoch 2/100\n",
            "20/20 [==============================] - 0s 2ms/step - loss: 0.6657 - accuracy: 0.6075\n",
            "Epoch 3/100\n",
            "20/20 [==============================] - 0s 2ms/step - loss: 0.6449 - accuracy: 0.6287\n",
            "Epoch 4/100\n",
            "20/20 [==============================] - 0s 2ms/step - loss: 0.6273 - accuracy: 0.6466\n",
            "Epoch 5/100\n",
            "20/20 [==============================] - 0s 2ms/step - loss: 0.6114 - accuracy: 0.6612\n",
            "Epoch 6/100\n",
            "20/20 [==============================] - 0s 2ms/step - loss: 0.5968 - accuracy: 0.6678\n",
            "Epoch 7/100\n",
            "20/20 [==============================] - 0s 2ms/step - loss: 0.5837 - accuracy: 0.6661\n",
            "Epoch 8/100\n",
            "20/20 [==============================] - 0s 2ms/step - loss: 0.5714 - accuracy: 0.6759\n",
            "Epoch 9/100\n",
            "20/20 [==============================] - 0s 2ms/step - loss: 0.5609 - accuracy: 0.6857\n",
            "Epoch 10/100\n",
            "20/20 [==============================] - 0s 2ms/step - loss: 0.5506 - accuracy: 0.7020\n",
            "Epoch 11/100\n",
            "20/20 [==============================] - 0s 2ms/step - loss: 0.5405 - accuracy: 0.7134\n",
            "Epoch 12/100\n",
            "20/20 [==============================] - 0s 2ms/step - loss: 0.5319 - accuracy: 0.7248\n",
            "Epoch 13/100\n",
            "20/20 [==============================] - 0s 2ms/step - loss: 0.5238 - accuracy: 0.7410\n",
            "Epoch 14/100\n",
            "20/20 [==============================] - 0s 2ms/step - loss: 0.5169 - accuracy: 0.7573\n",
            "Epoch 15/100\n",
            "20/20 [==============================] - 0s 2ms/step - loss: 0.5106 - accuracy: 0.7541\n",
            "Epoch 16/100\n",
            "20/20 [==============================] - 0s 2ms/step - loss: 0.5044 - accuracy: 0.7606\n",
            "Epoch 17/100\n",
            "20/20 [==============================] - 0s 2ms/step - loss: 0.4988 - accuracy: 0.7704\n",
            "Epoch 18/100\n",
            "20/20 [==============================] - 0s 2ms/step - loss: 0.4946 - accuracy: 0.7720\n",
            "Epoch 19/100\n",
            "20/20 [==============================] - 0s 2ms/step - loss: 0.4911 - accuracy: 0.7704\n",
            "Epoch 20/100\n",
            "20/20 [==============================] - 0s 2ms/step - loss: 0.4877 - accuracy: 0.7687\n",
            "Epoch 21/100\n",
            "20/20 [==============================] - 0s 2ms/step - loss: 0.4842 - accuracy: 0.7655\n",
            "Epoch 22/100\n",
            "20/20 [==============================] - 0s 2ms/step - loss: 0.4814 - accuracy: 0.7655\n",
            "Epoch 23/100\n",
            "20/20 [==============================] - 0s 2ms/step - loss: 0.4789 - accuracy: 0.7671\n",
            "Epoch 24/100\n",
            "20/20 [==============================] - 0s 2ms/step - loss: 0.4767 - accuracy: 0.7671\n",
            "Epoch 25/100\n",
            "20/20 [==============================] - 0s 2ms/step - loss: 0.4752 - accuracy: 0.7687\n",
            "Epoch 26/100\n",
            "20/20 [==============================] - 0s 2ms/step - loss: 0.4733 - accuracy: 0.7720\n",
            "Epoch 27/100\n",
            "20/20 [==============================] - 0s 2ms/step - loss: 0.4722 - accuracy: 0.7704\n",
            "Epoch 28/100\n",
            "20/20 [==============================] - 0s 2ms/step - loss: 0.4704 - accuracy: 0.7720\n",
            "Epoch 29/100\n",
            "20/20 [==============================] - 0s 2ms/step - loss: 0.4692 - accuracy: 0.7720\n",
            "Epoch 30/100\n",
            "20/20 [==============================] - 0s 2ms/step - loss: 0.4681 - accuracy: 0.7818\n",
            "Epoch 31/100\n",
            "20/20 [==============================] - 0s 2ms/step - loss: 0.4669 - accuracy: 0.7818\n",
            "Epoch 32/100\n",
            "20/20 [==============================] - 0s 2ms/step - loss: 0.4661 - accuracy: 0.7818\n",
            "Epoch 33/100\n",
            "20/20 [==============================] - 0s 2ms/step - loss: 0.4650 - accuracy: 0.7801\n",
            "Epoch 34/100\n",
            "20/20 [==============================] - 0s 2ms/step - loss: 0.4645 - accuracy: 0.7834\n",
            "Epoch 35/100\n",
            "20/20 [==============================] - 0s 2ms/step - loss: 0.4641 - accuracy: 0.7818\n",
            "Epoch 36/100\n",
            "20/20 [==============================] - 0s 2ms/step - loss: 0.4625 - accuracy: 0.7866\n",
            "Epoch 37/100\n",
            "20/20 [==============================] - 0s 2ms/step - loss: 0.4619 - accuracy: 0.7866\n",
            "Epoch 38/100\n",
            "20/20 [==============================] - 0s 2ms/step - loss: 0.4609 - accuracy: 0.7834\n",
            "Epoch 39/100\n",
            "20/20 [==============================] - 0s 2ms/step - loss: 0.4609 - accuracy: 0.7801\n",
            "Epoch 40/100\n",
            "20/20 [==============================] - 0s 2ms/step - loss: 0.4598 - accuracy: 0.7818\n",
            "Epoch 41/100\n",
            "20/20 [==============================] - 0s 2ms/step - loss: 0.4592 - accuracy: 0.7850\n",
            "Epoch 42/100\n",
            "20/20 [==============================] - 0s 2ms/step - loss: 0.4586 - accuracy: 0.7850\n",
            "Epoch 43/100\n",
            "20/20 [==============================] - 0s 2ms/step - loss: 0.4572 - accuracy: 0.7850\n",
            "Epoch 44/100\n",
            "20/20 [==============================] - 0s 2ms/step - loss: 0.4567 - accuracy: 0.7834\n",
            "Epoch 45/100\n",
            "20/20 [==============================] - 0s 2ms/step - loss: 0.4561 - accuracy: 0.7834\n",
            "Epoch 46/100\n",
            "20/20 [==============================] - 0s 2ms/step - loss: 0.4554 - accuracy: 0.7850\n",
            "Epoch 47/100\n",
            "20/20 [==============================] - 0s 2ms/step - loss: 0.4548 - accuracy: 0.7850\n",
            "Epoch 48/100\n",
            "20/20 [==============================] - 0s 2ms/step - loss: 0.4543 - accuracy: 0.7850\n",
            "Epoch 49/100\n",
            "20/20 [==============================] - 0s 2ms/step - loss: 0.4534 - accuracy: 0.7850\n",
            "Epoch 50/100\n",
            "20/20 [==============================] - 0s 2ms/step - loss: 0.4532 - accuracy: 0.7866\n",
            "Epoch 51/100\n",
            "20/20 [==============================] - 0s 2ms/step - loss: 0.4531 - accuracy: 0.7850\n",
            "Epoch 52/100\n",
            "20/20 [==============================] - 0s 2ms/step - loss: 0.4523 - accuracy: 0.7834\n",
            "Epoch 53/100\n",
            "20/20 [==============================] - 0s 2ms/step - loss: 0.4516 - accuracy: 0.7866\n",
            "Epoch 54/100\n",
            "20/20 [==============================] - 0s 2ms/step - loss: 0.4508 - accuracy: 0.7834\n",
            "Epoch 55/100\n",
            "20/20 [==============================] - 0s 2ms/step - loss: 0.4504 - accuracy: 0.7818\n",
            "Epoch 56/100\n",
            "20/20 [==============================] - 0s 2ms/step - loss: 0.4500 - accuracy: 0.7818\n",
            "Epoch 57/100\n",
            "20/20 [==============================] - 0s 2ms/step - loss: 0.4498 - accuracy: 0.7850\n",
            "Epoch 58/100\n",
            "20/20 [==============================] - 0s 2ms/step - loss: 0.4497 - accuracy: 0.7818\n",
            "Epoch 59/100\n",
            "20/20 [==============================] - 0s 2ms/step - loss: 0.4480 - accuracy: 0.7834\n",
            "Epoch 60/100\n",
            "20/20 [==============================] - 0s 2ms/step - loss: 0.4477 - accuracy: 0.7801\n",
            "Epoch 61/100\n",
            "20/20 [==============================] - 0s 2ms/step - loss: 0.4473 - accuracy: 0.7834\n",
            "Epoch 62/100\n",
            "20/20 [==============================] - 0s 2ms/step - loss: 0.4463 - accuracy: 0.7818\n",
            "Epoch 63/100\n",
            "20/20 [==============================] - 0s 2ms/step - loss: 0.4463 - accuracy: 0.7801\n",
            "Epoch 64/100\n",
            "20/20 [==============================] - 0s 2ms/step - loss: 0.4453 - accuracy: 0.7801\n",
            "Epoch 65/100\n",
            "20/20 [==============================] - 0s 2ms/step - loss: 0.4448 - accuracy: 0.7818\n",
            "Epoch 66/100\n",
            "20/20 [==============================] - 0s 2ms/step - loss: 0.4442 - accuracy: 0.7818\n",
            "Epoch 67/100\n",
            "20/20 [==============================] - 0s 2ms/step - loss: 0.4435 - accuracy: 0.7818\n",
            "Epoch 68/100\n",
            "20/20 [==============================] - 0s 2ms/step - loss: 0.4433 - accuracy: 0.7834\n",
            "Epoch 69/100\n",
            "20/20 [==============================] - 0s 2ms/step - loss: 0.4427 - accuracy: 0.7834\n",
            "Epoch 70/100\n",
            "20/20 [==============================] - 0s 2ms/step - loss: 0.4422 - accuracy: 0.7801\n",
            "Epoch 71/100\n",
            "20/20 [==============================] - 0s 2ms/step - loss: 0.4423 - accuracy: 0.7818\n",
            "Epoch 72/100\n",
            "20/20 [==============================] - 0s 2ms/step - loss: 0.4416 - accuracy: 0.7834\n",
            "Epoch 73/100\n",
            "20/20 [==============================] - 0s 2ms/step - loss: 0.4409 - accuracy: 0.7801\n",
            "Epoch 74/100\n",
            "20/20 [==============================] - 0s 2ms/step - loss: 0.4413 - accuracy: 0.7834\n",
            "Epoch 75/100\n",
            "20/20 [==============================] - 0s 2ms/step - loss: 0.4402 - accuracy: 0.7834\n",
            "Epoch 76/100\n",
            "20/20 [==============================] - 0s 2ms/step - loss: 0.4403 - accuracy: 0.7850\n",
            "Epoch 77/100\n",
            "20/20 [==============================] - 0s 2ms/step - loss: 0.4396 - accuracy: 0.7866\n",
            "Epoch 78/100\n",
            "20/20 [==============================] - 0s 2ms/step - loss: 0.4390 - accuracy: 0.7834\n",
            "Epoch 79/100\n",
            "20/20 [==============================] - 0s 2ms/step - loss: 0.4389 - accuracy: 0.7834\n",
            "Epoch 80/100\n",
            "20/20 [==============================] - 0s 2ms/step - loss: 0.4388 - accuracy: 0.7850\n",
            "Epoch 81/100\n",
            "20/20 [==============================] - 0s 2ms/step - loss: 0.4381 - accuracy: 0.7866\n",
            "Epoch 82/100\n",
            "20/20 [==============================] - 0s 2ms/step - loss: 0.4377 - accuracy: 0.7834\n",
            "Epoch 83/100\n",
            "20/20 [==============================] - 0s 2ms/step - loss: 0.4370 - accuracy: 0.7866\n",
            "Epoch 84/100\n",
            "20/20 [==============================] - 0s 2ms/step - loss: 0.4372 - accuracy: 0.7883\n",
            "Epoch 85/100\n",
            "20/20 [==============================] - 0s 2ms/step - loss: 0.4364 - accuracy: 0.7883\n",
            "Epoch 86/100\n",
            "20/20 [==============================] - 0s 2ms/step - loss: 0.4369 - accuracy: 0.7915\n",
            "Epoch 87/100\n",
            "20/20 [==============================] - 0s 2ms/step - loss: 0.4356 - accuracy: 0.7899\n",
            "Epoch 88/100\n",
            "20/20 [==============================] - 0s 2ms/step - loss: 0.4353 - accuracy: 0.7915\n",
            "Epoch 89/100\n",
            "20/20 [==============================] - 0s 2ms/step - loss: 0.4353 - accuracy: 0.7866\n",
            "Epoch 90/100\n",
            "20/20 [==============================] - 0s 2ms/step - loss: 0.4344 - accuracy: 0.7915\n",
            "Epoch 91/100\n",
            "20/20 [==============================] - 0s 2ms/step - loss: 0.4340 - accuracy: 0.7915\n",
            "Epoch 92/100\n",
            "20/20 [==============================] - 0s 2ms/step - loss: 0.4339 - accuracy: 0.7932\n",
            "Epoch 93/100\n",
            "20/20 [==============================] - 0s 2ms/step - loss: 0.4337 - accuracy: 0.7915\n",
            "Epoch 94/100\n",
            "20/20 [==============================] - 0s 2ms/step - loss: 0.4327 - accuracy: 0.7915\n",
            "Epoch 95/100\n",
            "20/20 [==============================] - 0s 2ms/step - loss: 0.4327 - accuracy: 0.7932\n",
            "Epoch 96/100\n",
            "20/20 [==============================] - 0s 2ms/step - loss: 0.4323 - accuracy: 0.7932\n",
            "Epoch 97/100\n",
            "20/20 [==============================] - 0s 2ms/step - loss: 0.4318 - accuracy: 0.7915\n",
            "Epoch 98/100\n",
            "20/20 [==============================] - 0s 2ms/step - loss: 0.4315 - accuracy: 0.7948\n",
            "Epoch 99/100\n",
            "20/20 [==============================] - 0s 2ms/step - loss: 0.4313 - accuracy: 0.7915\n",
            "Epoch 100/100\n",
            "20/20 [==============================] - 0s 2ms/step - loss: 0.4312 - accuracy: 0.7915\n"
          ]
        },
        {
          "output_type": "execute_result",
          "data": {
            "text/plain": [
              "<keras.callbacks.History at 0x7ac5a750f340>"
            ]
          },
          "metadata": {},
          "execution_count": 19
        }
      ]
    },
    {
      "cell_type": "markdown",
      "source": [
        "12. Se le pide al usuario que responda algunas preguntas sobre su salud. Las preguntas se almacenan en una lista llamada \"preguntas\".\n",
        "\n",
        "13. Se crea una lista vacía llamada \"respuestas\" para almacenar las respuestas del usuario.\n",
        "\n",
        "14. Se itera sobre cada pregunta en la lista \"preguntas\" utilizando un bucle \"for\". Para cada pregunta, se le pide al usuario que ingrese una respuesta utilizando la función \"input\" de Python. La respuesta se convierte en un número decimal utilizando la función \"float\" y se agrega a la lista \"respuestas\"."
      ],
      "metadata": {
        "id": "pc3QOe34tdFC"
      }
    },
    {
      "cell_type": "code",
      "source": [
        "# Preguntar al usuario sobre su salud\n",
        "print(\"Por favor, responda las siguientes preguntas sobre su salud:\")\n",
        "preguntas = [\"¿Cuántas veces ha estado embarazada?\",\n",
        "             \"¿Cuál es su nivel de glucosa en plasma a las 2 horas en una prueba oral de tolerancia a la glucosa?\",\n",
        "             \"¿Cuál es su presión arterial diastólica (mm Hg)?\",\n",
        "             \"¿Cuál es su grosor del pliegue de la piel del tríceps (mm)?\",\n",
        "             \"¿Cuál es su nivel de insulina en suero en 2 horas (mu U/ml)?\",\n",
        "             \"¿Cuál es su índice de masa corporal (peso en kg/(altura en m)^2)?\",\n",
        "             \"¿Cuál es su función del pedigrí de diabetes?\",\n",
        "             \"¿Qué edad tiene (años)?\"]\n",
        "\n",
        "respuestas = []\n",
        "for pregunta in preguntas:\n",
        "    respuesta = float(input(pregunta + \"\\n\"))\n",
        "    respuestas.append(respuesta)"
      ],
      "metadata": {
        "colab": {
          "base_uri": "https://localhost:8080/"
        },
        "id": "Gb5FGfelXW_9",
        "outputId": "66f83e03-dae7-44b5-d8c6-833bc8c5bde0"
      },
      "execution_count": null,
      "outputs": [
        {
          "name": "stdout",
          "output_type": "stream",
          "text": [
            "Por favor, responda las siguientes preguntas sobre su salud:\n",
            "¿Cuántas veces ha estado embarazada?\n",
            "6\n",
            "¿Cuál es su nivel de glucosa en plasma a las 2 horas en una prueba oral de tolerancia a la glucosa?\n",
            "148\n",
            "¿Cuál es su presión arterial diastólica (mm Hg)?\n",
            "72\n",
            "¿Cuál es su grosor del pliegue de la piel del tríceps (mm)?\n",
            "35\n",
            "¿Cuál es su nivel de insulina en suero en 2 horas (mu U/ml)?\n",
            "0\n",
            "¿Cuál es su índice de masa corporal (peso en kg/(altura en m)^2)?\n",
            "33.6\n",
            "¿Cuál es su función del pedigrí de diabetes?\n",
            "0.627\n",
            "¿Qué edad tiene (años)?\n",
            "50\n"
          ]
        }
      ]
    },
    {
      "cell_type": "markdown",
      "source": [
        "15. Las respuestas se convierten en un array numpy utilizando la función \"array\" de la librería numpy. El array se redimensiona utilizando el método \"reshape\" para que tenga una forma de (1, -1), donde 1 indica que es un solo ejemplo y -1 indica que el tamaño de la segunda dimensión se calcula automáticamente.\n",
        "16. Las respuestas se escalan utilizando el objeto \"sc\" de la clase \"StandardScaler\" que se creó anteriormente. Esto garantiza que las respuestas estén en la misma escala que las variables de entrenamiento utilizadas para entrenar la red neuronal."
      ],
      "metadata": {
        "id": "reZ6T23jttf5"
      }
    },
    {
      "cell_type": "code",
      "source": [
        "# Convertir las respuestas en un array numpy y escalarlas\n",
        "respuestas = np.array(respuestas).reshape(1, -1)\n",
        "respuestas = sc.transform(respuestas)"
      ],
      "metadata": {
        "id": "3gs00-9Rtssi"
      },
      "execution_count": null,
      "outputs": []
    },
    {
      "cell_type": "markdown",
      "source": [
        "17. Se realiza una predicción de la probabilidad de padecer diabetes utilizando el método \"predict\" de la red neuronal. Se accede al elemento [0][0] de la salida para obtener la probabilidad como un número decimal.\n",
        "\n",
        "18. Se muestra el resultado al usuario utilizando la función \"print\" de Python. Se utiliza una cadena de formato para mostrar la probabilidad con 2 decimales y se multiplica por 100 para mostrar el resultado como un porcentaje."
      ],
      "metadata": {
        "id": "CZUH1l4vt-F3"
      }
    },
    {
      "cell_type": "code",
      "source": [
        "# Predecir la probabilidad de padecer diabetes\n",
        "probabilidad = ann.predict(respuestas)[0][0]\n",
        "\n",
        "# Mostrar el resultado al usuario\n",
        "print(f\"La probabilidad de que usted padezca diabetes es de {probabilidad*100:.2f}%\")"
      ],
      "metadata": {
        "colab": {
          "base_uri": "https://localhost:8080/"
        },
        "id": "jWrGKQfdXcl0",
        "outputId": "b0295076-8344-4d38-cff7-86971867814a"
      },
      "execution_count": null,
      "outputs": [
        {
          "output_type": "stream",
          "name": "stdout",
          "text": [
            "1/1 [==============================] - 0s 54ms/step\n",
            "La probabilidad de que usted padezca diabetes es de 77.84%\n"
          ]
        }
      ]
    }
  ]
}